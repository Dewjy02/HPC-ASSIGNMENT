{
  "nbformat": 4,
  "nbformat_minor": 0,
  "metadata": {
    "colab": {
      "provenance": [],
      "gpuType": "T4"
    },
    "kernelspec": {
      "name": "python3",
      "display_name": "Python 3"
    },
    "language_info": {
      "name": "python"
    },
    "accelerator": "GPU"
  },
  "cells": [
    {
      "cell_type": "code",
      "source": [
        "!wget https://raw.githubusercontent.com/Dewjy02/HPC-ASSIGNMENT/4b9d288c78dad6d69fe56189a7557b39456414c7/passCrackCuda/generate_hash.c -O generate_hash.c"
      ],
      "metadata": {
        "colab": {
          "base_uri": "https://localhost:8080/"
        },
        "id": "HKcET4tdoEId",
        "outputId": "2ecdcb51-6966-4203-c66e-d16b6cac00ce"
      },
      "execution_count": 42,
      "outputs": [
        {
          "output_type": "stream",
          "name": "stdout",
          "text": [
            "--2025-10-22 15:56:34--  https://raw.githubusercontent.com/Dewjy02/HPC-ASSIGNMENT/4b9d288c78dad6d69fe56189a7557b39456414c7/passCrackCuda/generate_hash.c\n",
            "Resolving raw.githubusercontent.com (raw.githubusercontent.com)... 185.199.109.133, 185.199.110.133, 185.199.111.133, ...\n",
            "Connecting to raw.githubusercontent.com (raw.githubusercontent.com)|185.199.109.133|:443... connected.\n",
            "HTTP request sent, awaiting response... 200 OK\n",
            "Length: 1219 (1.2K) [text/plain]\n",
            "Saving to: ‘generate_hash.c’\n",
            "\n",
            "\rgenerate_hash.c       0%[                    ]       0  --.-KB/s               \rgenerate_hash.c     100%[===================>]   1.19K  --.-KB/s    in 0s      \n",
            "\n",
            "2025-10-22 15:56:34 (86.7 MB/s) - ‘generate_hash.c’ saved [1219/1219]\n",
            "\n"
          ]
        }
      ]
    },
    {
      "cell_type": "code",
      "source": [
        "%%writefile cuda_crack.cu\n",
        "#include <stdio.h>\n",
        "#include <stdlib.h>\n",
        "#include <string.h>\n",
        "#include <stdint.h>\n",
        "\n",
        "//writes 11-char encrypted output into outEnc\n",
        "__device__ void deviceCrypt(const char* rawPassword, char* outEnc){\n",
        "    outEnc[0] = rawPassword[0] + 3;\n",
        "    outEnc[1] = rawPassword[0] - 2;\n",
        "    outEnc[2] = rawPassword[0] + 1;\n",
        "    outEnc[3] = rawPassword[1] + 1;\n",
        "    outEnc[4] = rawPassword[1] - 2;\n",
        "    outEnc[5] = rawPassword[1] - 3;\n",
        "    outEnc[6] = rawPassword[2] + 1;\n",
        "    outEnc[7] = rawPassword[2] - 2;\n",
        "    outEnc[8] = rawPassword[3] + 4;\n",
        "    outEnc[9] = rawPassword[3] - 3;\n",
        "    outEnc[10] = '\\0';\n",
        "\n",
        "    //enforce bounds with Corrected wrap-around logic\n",
        "    for(int i = 0; i < 10; i++){\n",
        "        if(i >= 0 && i < 6){ // letter section -> ensure lowercase a-z (97-122)\n",
        "            if(outEnc[i] > 122){\n",
        "                outEnc[i] = (outEnc[i] - 122) + 97 - 1; // Corrected high wrap\n",
        "            } else if(outEnc[i] < 97){\n",
        "                outEnc[i] = 122 - (97 - outEnc[i] - 1); // Corrected low wrap\n",
        "            }\n",
        "        } else { // number section -> ensure digits 0-9 (48-57)\n",
        "            if(outEnc[i] > 57){\n",
        "                outEnc[i] = (outEnc[i] - 57) + 48 - 1; // Corrected high wrap\n",
        "            } else if(outEnc[i] < 48){\n",
        "                outEnc[i] = 57 - (48 - outEnc[i] - 1); // Corrected low wrap\n",
        "            }\n",
        "        }\n",
        "    }\n",
        "}\n",
        "\n",
        "//simple device compare function for 10-character strings\n",
        "__device__ bool encMatch(const char* a, const char* b){\n",
        "    for(int i=0;i<10;i++){\n",
        "        if(a[i] != b[i]) return false;\n",
        "    }\n",
        "    return true;\n",
        "}\n",
        "\n",
        "//each thread checks one candidate password\n",
        "__global__ void crackKernel(const char* targetEnc, char* resultRaw, int* foundFlag, unsigned long long totalCombinations){\n",
        "    unsigned long long tid = (unsigned long long)blockIdx.x * blockDim.x + threadIdx.x;\n",
        "    if(tid >= totalCombinations) return;\n",
        "    if(atomicAdd(foundFlag, 0) != 0) return;\n",
        "\n",
        "    unsigned long long letters_section = 26ULL * 10ULL * 10ULL;\n",
        "    unsigned long long a = tid / letters_section; // 0..25\n",
        "    unsigned long long rem = tid % letters_section;\n",
        "    unsigned long long b = rem / (10ULL * 10ULL); // 0..25\n",
        "    unsigned long long rem2 = rem % (10ULL * 10ULL);\n",
        "    unsigned long long c = rem2 / 10ULL; // 0..9\n",
        "    unsigned long long d = rem2 % 10ULL; // 0..9\n",
        "\n",
        "    char raw[5];\n",
        "    raw[0] = (char)('a' + (int)a);\n",
        "    raw[1] = (char)('a' + (int)b);\n",
        "    raw[2] = (char)('0' + (int)c);\n",
        "    raw[3] = (char)('0' + (int)d);\n",
        "    raw[4] = '\\0';\n",
        "\n",
        "    char enc[11];\n",
        "    deviceCrypt(raw, enc);\n",
        "\n",
        "    if(encMatch(enc, targetEnc)){\n",
        "        // try to claim the result (only first claimer writes)\n",
        "        if(atomicCAS(foundFlag, 0, 1) == 0){\n",
        "            // copy raw password to resultRaw (5 bytes including null)\n",
        "            for(int i=0;i<5;i++) resultRaw[i] = raw[i];\n",
        "        }\n",
        "    }\n",
        "}\n",
        "\n",
        "void checkCudaErr(cudaError_t err, const char* msg){\n",
        "    if(err != cudaSuccess){\n",
        "        fprintf(stderr, \"%s: %s\\n\", msg, cudaGetErrorString(err));\n",
        "        exit(EXIT_FAILURE);\n",
        "    }\n",
        "}\n",
        "\n",
        "int main(int argc, char** argv){\n",
        "    // target encrypted password must be 10 characters\n",
        "    char hostTargetEnc[11];\n",
        "\n",
        "    if(argc < 2){\n",
        "        fprintf(stderr, \"Error: No encrypted password provided.\\n\");\n",
        "        fprintf(stderr, \"Usage: %s <encrypted_hash>\\n\", argv[0]);\n",
        "        return EXIT_FAILURE;\n",
        "    }\n",
        "\n",
        "    //check the argument length\n",
        "    size_t len = strlen(argv[1]);\n",
        "    if(len < 10){\n",
        "        fprintf(stderr, \"Error: Provided encrypted password is too short. Expecting 10 characters.\\n\");\n",
        "        return EXIT_FAILURE;\n",
        "    }\n",
        "\n",
        "    //argument is valid, copy it to the device\n",
        "    for(int i=0;i<10;i++) hostTargetEnc[i] = argv[1][i];\n",
        "    hostTargetEnc[10] = '\\0';\n",
        "    printf(\"Target encrypted password: %s\\n\", hostTargetEnc);\n",
        "\n",
        "    // prepare device copies\n",
        "    char* d_targetEnc = NULL;\n",
        "    char* d_resultRaw = NULL;\n",
        "    int* d_found = NULL;\n",
        "\n",
        "    checkCudaErr(cudaMalloc((void**)&d_targetEnc, 11 * sizeof(char)), \"cudaMalloc targetEnc\");\n",
        "    checkCudaErr(cudaMalloc((void**)&d_resultRaw, 5 * sizeof(char)), \"cudaMalloc resultRaw\");\n",
        "    checkCudaErr(cudaMalloc((void**)&d_found, sizeof(int)), \"cudaMalloc found flag\");\n",
        "\n",
        "    checkCudaErr(cudaMemcpy(d_targetEnc, hostTargetEnc, 11 * sizeof(char), cudaMemcpyHostToDevice), \"cudaMemcpy targetEnc to device\");\n",
        "    int zero = 0;\n",
        "    checkCudaErr(cudaMemcpy(d_found, &zero, sizeof(int), cudaMemcpyHostToDevice), \"cudaMemcpy found init\");\n",
        "\n",
        "    unsigned long long total = 26ULL * 26ULL * 10ULL * 10ULL; // 67600\n",
        "    int threadsPerBlock = 256;\n",
        "    unsigned long long blocks = (total + threadsPerBlock - 1ULL) / threadsPerBlock;\n",
        "    if(blocks < 2) blocks = 2; // ensure more than one block as required by assessment\n",
        "\n",
        "    printf(\"Launching kernel with %llu blocks x %d threads (total threads >= %llu).\\n\", (unsigned long long)blocks, threadsPerBlock, total);\n",
        "\n",
        "    crackKernel<<<(int)blocks, threadsPerBlock>>>(d_targetEnc, d_resultRaw, d_found, total);\n",
        "    cudaError_t kerr = cudaGetLastError();\n",
        "    if(kerr != cudaSuccess){\n",
        "        fprintf(stderr, \"Kernel launch error: %s\\n\", cudaGetErrorString(kerr));\n",
        "        return EXIT_FAILURE;\n",
        "    }\n",
        "\n",
        "    // wait for GPU to finish\n",
        "    checkCudaErr(cudaDeviceSynchronize(), \"cudaDeviceSynchronize\");\n",
        "\n",
        "    int hostFound = 0;\n",
        "    checkCudaErr(cudaMemcpy(&hostFound, d_found, sizeof(int), cudaMemcpyDeviceToHost), \"cudaMemcpy found to host\");\n",
        "\n",
        "    if(hostFound){\n",
        "        char hostResult[5];\n",
        "        checkCudaErr(cudaMemcpy(hostResult, d_resultRaw, 5 * sizeof(char), cudaMemcpyDeviceToHost), \"cudaMemcpy resultRaw to host\");\n",
        "        hostResult[4] = '\\0';\n",
        "        printf(\"Password found: %s\\n\", hostResult);\n",
        "    } else {\n",
        "        printf(\"Password was NOT found.\\n\");\n",
        "    }\n",
        "\n",
        "    // free memory\n",
        "    cudaFree(d_targetEnc);\n",
        "    cudaFree(d_resultRaw);\n",
        "    cudaFree(d_found);\n",
        "\n",
        "    return 0;\n",
        "}"
      ],
      "metadata": {
        "colab": {
          "base_uri": "https://localhost:8080/"
        },
        "id": "06m_cyqxOdtW",
        "outputId": "40ffe406-04e4-4417-e447-4537d4671caf"
      },
      "execution_count": 48,
      "outputs": [
        {
          "output_type": "stream",
          "name": "stdout",
          "text": [
            "Overwriting cuda_crack.cu\n"
          ]
        }
      ]
    },
    {
      "cell_type": "code",
      "source": [
        "!nvcc -o cuda_crack cuda_crack.cu \\\n",
        "  -gencode=arch=compute_50,code=sm_50 \\\n",
        "  -gencode=arch=compute_60,code=sm_60 \\\n",
        "  -gencode=arch=compute_61,code=sm_61 \\\n",
        "  -gencode=arch=compute_70,code=sm_70 \\\n",
        "  -gencode=arch=compute_75,code=sm_75 \\\n",
        "  -gencode=arch=compute_80,code=sm_80 \\\n",
        "  -gencode=arch=compute_86,code=sm_86\n"
      ],
      "metadata": {
        "id": "oTtvKm1TShSR"
      },
      "execution_count": 44,
      "outputs": []
    },
    {
      "cell_type": "code",
      "source": [
        "!gcc -o generate_hash generate_hash.c"
      ],
      "metadata": {
        "id": "zN1rrpfBigPj"
      },
      "execution_count": 45,
      "outputs": []
    },
    {
      "cell_type": "code",
      "source": [
        "!./generate_hash at42"
      ],
      "metadata": {
        "colab": {
          "base_uri": "https://localhost:8080/"
        },
        "id": "41aDztybijEu",
        "outputId": "e21028e3-dbc1-4e24-a8f7-56a570074e40"
      },
      "execution_count": 46,
      "outputs": [
        {
          "output_type": "stream",
          "name": "stdout",
          "text": [
            "dyburq5269\n"
          ]
        }
      ]
    },
    {
      "cell_type": "code",
      "source": [
        "%%bash\n",
        "./cuda_crack dyburq5269"
      ],
      "metadata": {
        "colab": {
          "base_uri": "https://localhost:8080/"
        },
        "id": "jgW4YPaAipO-",
        "outputId": "4b578a20-c325-4eec-a370-5e7c24bdb745"
      },
      "execution_count": 47,
      "outputs": [
        {
          "output_type": "stream",
          "name": "stdout",
          "text": [
            "Target encrypted password: dyburq5269\n",
            "Launching kernel with 265 blocks x 256 threads (total threads >= 67600).\n",
            "Password found: at42\n"
          ]
        }
      ]
    }
  ]
}