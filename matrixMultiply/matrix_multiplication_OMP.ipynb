{
  "nbformat": 4,
  "nbformat_minor": 0,
  "metadata": {
    "colab": {
      "provenance": []
    },
    "kernelspec": {
      "name": "python3",
      "display_name": "Python 3"
    },
    "language_info": {
      "name": "python"
    }
  },
  "cells": [
    {
      "cell_type": "code",
      "source": [
        "!wget https://raw.githubusercontent.com/Dewjy02/HPC-ASSIGNMENT/252a52f02a4d76355e5e4c1fe910c35091e6cf31/matrixMultiply/MatData.txt\n",
        "!wget https://raw.githubusercontent.com/Dewjy02/HPC-ASSIGNMENT/252a52f02a4d76355e5e4c1fe910c35091e6cf31/matrixMultiply/mtx-file-handler.c"
      ],
      "metadata": {
        "colab": {
          "base_uri": "https://localhost:8080/"
        },
        "collapsed": true,
        "id": "bo4ykF70zRSB",
        "outputId": "f0ac0927-74a1-4c09-86a7-d26c2a21b5fc"
      },
      "execution_count": 20,
      "outputs": [
        {
          "output_type": "stream",
          "name": "stdout",
          "text": [
            "--2025-10-22 12:32:38--  https://raw.githubusercontent.com/Dewjy02/HPC-ASSIGNMENT/252a52f02a4d76355e5e4c1fe910c35091e6cf31/matrixMultiply/MatData.txt\n",
            "Resolving raw.githubusercontent.com (raw.githubusercontent.com)... 185.199.108.133, 185.199.109.133, 185.199.110.133, ...\n",
            "Connecting to raw.githubusercontent.com (raw.githubusercontent.com)|185.199.108.133|:443... connected.\n",
            "HTTP request sent, awaiting response... 200 OK\n",
            "Length: 14116 (14K) [text/plain]\n",
            "Saving to: ‘MatData.txt’\n",
            "\n",
            "\rMatData.txt           0%[                    ]       0  --.-KB/s               \rMatData.txt         100%[===================>]  13.79K  --.-KB/s    in 0.001s  \n",
            "\n",
            "2025-10-22 12:32:38 (24.2 MB/s) - ‘MatData.txt’ saved [14116/14116]\n",
            "\n",
            "--2025-10-22 12:32:38--  https://raw.githubusercontent.com/Dewjy02/HPC-ASSIGNMENT/252a52f02a4d76355e5e4c1fe910c35091e6cf31/matrixMultiply/mtx-file-handler.c\n",
            "Resolving raw.githubusercontent.com (raw.githubusercontent.com)... 185.199.108.133, 185.199.109.133, 185.199.110.133, ...\n",
            "Connecting to raw.githubusercontent.com (raw.githubusercontent.com)|185.199.108.133|:443... connected.\n",
            "HTTP request sent, awaiting response... 200 OK\n",
            "Length: 1751 (1.7K) [text/plain]\n",
            "Saving to: ‘mtx-file-handler.c’\n",
            "\n",
            "mtx-file-handler.c  100%[===================>]   1.71K  --.-KB/s    in 0s      \n",
            "\n",
            "2025-10-22 12:32:38 (17.9 MB/s) - ‘mtx-file-handler.c’ saved [1751/1751]\n",
            "\n"
          ]
        }
      ]
    },
    {
      "cell_type": "code",
      "source": [
        "%%writefile mtx-multiplication.c\n",
        "#include <stdio.h>\n",
        "#include <stdlib.h>\n",
        "#include <omp.h>\n",
        "#include \"mtx-file-handler.c\"\n",
        "\n",
        "Matrix *multiplyMatrices(Matrix *A, Matrix *B, int threads) {\n",
        "    if (A->cols != B->rows) {\n",
        "        printf(\"Can't multiply (%dx%d) and (%dx%d)\\n\",\n",
        "               A->rows, A->cols, B->rows, B->cols);\n",
        "        return NULL;\n",
        "    }\n",
        "\n",
        "    Matrix *result = allocateMatrix(A->rows, B->cols);\n",
        "    int max_dim = (A->rows > B->cols) ? A->rows : B->cols;\n",
        "    if (threads > max_dim) threads = max_dim;\n",
        "    omp_set_num_threads(threads);\n",
        "\n",
        "    #pragma omp parallel for collapse(2)\n",
        "    for (int i = 0; i < A->rows; i++) {\n",
        "        for (int j = 0; j < B->cols; j++) {\n",
        "            double sum = 0.0;\n",
        "            for (int k = 0; k < A->cols; k++) {\n",
        "                sum += A->data[i][k] * B->data[k][j];\n",
        "            }\n",
        "            result->data[i][j] = sum;\n",
        "        }\n",
        "    }\n",
        "    return result;\n",
        "}\n",
        "\n",
        "int main(int argc, char *argv[]) {\n",
        "    if (argc < 3) {\n",
        "        printf(\"Usage: %s <input_file> <num_threads>\\n\", argv[0]);\n",
        "        return 1;\n",
        "    }\n",
        "\n",
        "    const char *filename = argv[1];\n",
        "    int threads = atoi(argv[2]);\n",
        "\n",
        "    Matrix **matrices = NULL;\n",
        "    int count = readMatricesFromFile(filename, &matrices);\n",
        "\n",
        "    if (count < 2) {\n",
        "        printf(\"Not enough matrices in file.\\n\");\n",
        "        return 1;\n",
        "    }\n",
        "\n",
        "    FILE *out = fopen(\"MatDataResults.txt\", \"w\");\n",
        "    if (!out) {\n",
        "        perror(\"Error creating output file\");\n",
        "        return 1;\n",
        "    }\n",
        "\n",
        "    for (int i = 0; i < count - 1; i += 2) {\n",
        "        printf(\"Multiplying Matrix %d and %d...\\n\", i + 1, i + 2);\n",
        "        Matrix *result = multiplyMatrices(matrices[i], matrices[i + 1], threads);\n",
        "        if (result) {\n",
        "            writeMatrixToFile(out, result);\n",
        "            fprintf(out, \"\\n\");\n",
        "            freeMatrix(result);\n",
        "        }\n",
        "    }\n",
        "\n",
        "    fclose(out);\n",
        "    for (int i = 0; i < count; i++) freeMatrix(matrices[i]);\n",
        "    free(matrices);\n",
        "\n",
        "    printf(\"Matrix multiplication completed. Results saved to MatDataResults.txt\\n\");\n",
        "    return 0;\n",
        "}\n"
      ],
      "metadata": {
        "colab": {
          "base_uri": "https://localhost:8080/"
        },
        "id": "oV9zuP21uAMC",
        "outputId": "9590913d-e9d6-49dc-e76e-04f865c13512"
      },
      "execution_count": 21,
      "outputs": [
        {
          "output_type": "stream",
          "name": "stdout",
          "text": [
            "Overwriting mtx-multiplication.c\n"
          ]
        }
      ]
    },
    {
      "cell_type": "code",
      "metadata": {
        "colab": {
          "base_uri": "https://localhost:8080/"
        },
        "id": "40d9c15c",
        "outputId": "4d6d025c-3db2-452c-f73e-e9e5363654a4"
      },
      "source": [
        "%%bash\n",
        "gcc -fopenmp /content/mtx-multiplication.c -o matmul\n",
        "./matmul /content/MatData.txt 8"
      ],
      "execution_count": 22,
      "outputs": [
        {
          "output_type": "stream",
          "name": "stdout",
          "text": [
            "Multiplying Matrix 1 and 2...\n",
            "Multiplying Matrix 3 and 4...\n",
            "Multiplying Matrix 5 and 6...\n",
            "Multiplying Matrix 7 and 8...\n",
            "Multiplying Matrix 9 and 10...\n",
            "Multiplying Matrix 11 and 12...\n",
            "Multiplying Matrix 13 and 14...\n",
            "Multiplying Matrix 15 and 16...\n",
            "Multiplying Matrix 17 and 18...\n",
            "Multiplying Matrix 19 and 20...\n",
            "Matrix multiplication completed. Results saved to MatDataResults.txt\n"
          ]
        }
      ]
    }
  ]
}