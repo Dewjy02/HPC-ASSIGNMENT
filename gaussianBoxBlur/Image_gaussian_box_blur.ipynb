{
  "nbformat": 4,
  "nbformat_minor": 0,
  "metadata": {
    "colab": {
      "provenance": [],
      "gpuType": "T4"
    },
    "kernelspec": {
      "name": "python3",
      "display_name": "Python 3"
    },
    "language_info": {
      "name": "python"
    },
    "accelerator": "GPU"
  },
  "cells": [
    {
      "cell_type": "code",
      "metadata": {
        "colab": {
          "base_uri": "https://localhost:8080/"
        },
        "id": "a24333a2",
        "outputId": "49873db8-23dd-498e-b7cf-03164d7625e4"
      },
      "source": [
        "!nvcc --version"
      ],
      "execution_count": null,
      "outputs": [
        {
          "output_type": "stream",
          "name": "stdout",
          "text": [
            "nvcc: NVIDIA (R) Cuda compiler driver\n",
            "Copyright (c) 2005-2024 NVIDIA Corporation\n",
            "Built on Thu_Jun__6_02:18:23_PDT_2024\n",
            "Cuda compilation tools, release 12.5, V12.5.82\n",
            "Build cuda_12.5.r12.5/compiler.34385749_0\n"
          ]
        }
      ]
    },
    {
      "cell_type": "code",
      "metadata": {
        "colab": {
          "base_uri": "https://localhost:8080/"
        },
        "id": "8c64bce7",
        "outputId": "4ec62b9f-7cf2-4411-fe50-345011fb8800"
      },
      "source": [
        "%%writefile Image_gaussian_blur.cu\n",
        "#include <iostream>\n",
        "#include <vector>\n",
        "#include \"lodepng.h\"\n",
        "#include <cuda_runtime.h>\n",
        "#include <cmath>\n",
        "\n",
        "// Helper function to calculate Gaussian weight (Host version)\n",
        "float host_gaussian_weight(int x, int y, float sigma) {\n",
        "    return exp(-(x*x + y*y) / (2 * sigma * sigma));\n",
        "}\n",
        "\n",
        "//\n",
        "// Task 4.3: Applying Gaussian filter on image in the kernel function\n",
        "// This kernel applies a Gaussian blur to the image using a predefined kernel size.\n",
        "//\n",
        "__global__ void gaussian_blur_kernel(const unsigned char* input, unsigned char* output, int width, int height, int kernel_radius, const float* gaussian_weights) {\n",
        "    int x = blockIdx.x * blockDim.x + threadIdx.x;\n",
        "    int y = blockIdx.y * blockDim.y + threadIdx.y;\n",
        "\n",
        "    if (x < width && y < height) {\n",
        "        float r_sum = 0.0f;\n",
        "        float g_sum = 0.0f;\n",
        "        float b_sum = 0.0f;\n",
        "        float weight_sum = 0.0f;\n",
        "\n",
        "        for (int j = -kernel_radius; j <= kernel_radius; ++j) {\n",
        "            for (int i = -kernel_radius; i <= kernel_radius; ++i) {\n",
        "                int current_x = x + i;\n",
        "                int current_y = y + j;\n",
        "\n",
        "                if (current_x >= 0 && current_x < width && current_y >= 0 && current_y < height) {\n",
        "                    int img_idx = (current_y * width + current_x) * 4;\n",
        "                    int kernel_idx = (j + kernel_radius) * (2 * kernel_radius + 1) + (i + kernel_radius);\n",
        "                    float weight = gaussian_weights[kernel_idx];\n",
        "\n",
        "                    r_sum += input[img_idx] * weight;\n",
        "                    g_sum += input[img_idx + 1] * weight;\n",
        "                    b_sum += input[img_idx + 2] * weight;\n",
        "                    weight_sum += weight;\n",
        "                }\n",
        "            }\n",
        "        }\n",
        "\n",
        "        int out_idx = (y * width + x) * 4;\n",
        "        output[out_idx] = static_cast<unsigned char>(r_sum / weight_sum);\n",
        "        output[out_idx + 1] = static_cast<unsigned char>(g_sum / weight_sum);\n",
        "        output[out_idx + 2] = static_cast<unsigned char>(b_sum / weight_sum);\n",
        "        output[out_idx + 3] = input[out_idx + 3]; // Preserve alpha channel\n",
        "    }\n",
        "}\n",
        "\n",
        "\n",
        "int main(int argc, char **argv) {\n",
        "    if (argc < 4) {\n",
        "        std::cerr << \"Usage: \" << argv[0] << \" </content/church.png> <output_file.png> <kernel_radius>\" << std::endl;\n",
        "        return 1;\n",
        "    }\n",
        "\n",
        "    const char* input_filename = argv[1];\n",
        "    const char* output_filename = argv[2];\n",
        "    int kernel_radius = std::stoi(argv[3]);\n",
        "    float sigma = kernel_radius / 3.0f; // Simple heuristic for sigma\n",
        "\n",
        "    std::vector<unsigned char> image;\n",
        "    unsigned width, height;\n",
        "\n",
        "    unsigned error = lodepng::decode(image, width, height, input_filename);\n",
        "    if (error) {\n",
        "        std::cerr << \"Decoder error \" << error << \": \" << lodepng_error_text(error) << std::endl;\n",
        "        return 1;\n",
        "    }\n",
        "\n",
        "    std::cout << \"Image loaded: \" << width << \"x\" << height << \" pixels.\" << std::endl;\n",
        "\n",
        "    size_t image_size = (size_t)width * height * 4;\n",
        "    unsigned char* d_input, *d_output;\n",
        "    float* h_gaussian_weights;\n",
        "    float* d_gaussian_weights;\n",
        "\n",
        "    cudaError_t cuda_status = cudaMalloc(&d_input, image_size);\n",
        "    if (cuda_status != cudaSuccess) {\n",
        "        std::cerr << \"cudaMalloc failed for d_input: \" << cudaGetErrorString(cuda_status) << std::endl;\n",
        "        return 1;\n",
        "    }\n",
        "\n",
        "    cuda_status = cudaMalloc(&d_output, image_size);\n",
        "     if (cuda_status != cudaSuccess) {\n",
        "        std::cerr << \"cudaMalloc failed for d_output: \" << cudaGetErrorString(cuda_status) << std::endl;\n",
        "        cudaFree(d_input);\n",
        "        return 1;\n",
        "    }\n",
        "\n",
        "    int kernel_size = (2 * kernel_radius + 1);\n",
        "    int gaussian_weights_size = kernel_size * kernel_size * sizeof(float);\n",
        "\n",
        "    h_gaussian_weights = (float*)malloc(gaussian_weights_size);\n",
        "    if (h_gaussian_weights == nullptr) {\n",
        "        std::cerr << \"Failed to allocate host memory for Gaussian weights.\" << std::endl;\n",
        "        cudaFree(d_input);\n",
        "        cudaFree(d_output);\n",
        "        return 1;\n",
        "    }\n",
        "\n",
        "    // Generate 2D Gaussian weights on the host\n",
        "    float sum_weights = 0.0f;\n",
        "    for (int j = -kernel_radius; j <= kernel_radius; ++j) {\n",
        "        for (int i = -kernel_radius; i <= kernel_radius; ++i) {\n",
        "            int kernel_idx = (j + kernel_radius) * kernel_size + (i + kernel_radius);\n",
        "            h_gaussian_weights[kernel_idx] = host_gaussian_weight(i, j, sigma);\n",
        "            sum_weights += h_gaussian_weights[kernel_idx];\n",
        "        }\n",
        "    }\n",
        "\n",
        "    // Normalize weights\n",
        "    for (int j = -kernel_radius; j <= kernel_radius; ++j) {\n",
        "        for (int i = -kernel_radius; i <= kernel_radius; ++i) {\n",
        "             int kernel_idx = (j + kernel_radius) * kernel_size + (i + kernel_radius);\n",
        "             h_gaussian_weights[kernel_idx] /= sum_weights;\n",
        "        }\n",
        "    }\n",
        "\n",
        "\n",
        "    cuda_status = cudaMalloc(&d_gaussian_weights, gaussian_weights_size);\n",
        "     if (cuda_status != cudaSuccess) {\n",
        "        std::cerr << \"cudaMalloc failed for d_gaussian_weights: \" << cudaGetErrorString(cuda_status) << std::endl;\n",
        "        cudaFree(d_input);\n",
        "        cudaFree(d_output);\n",
        "        free(h_gaussian_weights);\n",
        "        return 1;\n",
        "    }\n",
        "\n",
        "\n",
        "    cuda_status = cudaMemcpy(d_input, image.data(), image_size, cudaMemcpyHostToDevice);\n",
        "    if (cuda_status != cudaSuccess) {\n",
        "        std::cerr << \"cudaMemcpyHostToDevice failed for image data: \" << cudaGetErrorString(cuda_status) << std::endl;\n",
        "        cudaFree(d_input);\n",
        "        cudaFree(d_output);\n",
        "        cudaFree(d_gaussian_weights);\n",
        "        free(h_gaussian_weights);\n",
        "        return 1;\n",
        "    }\n",
        "\n",
        "    cuda_status = cudaMemcpy(d_gaussian_weights, h_gaussian_weights, gaussian_weights_size, cudaMemcpyHostToDevice);\n",
        "     if (cuda_status != cudaSuccess) {\n",
        "        std::cerr << \"cudaMemcpyHostToDevice failed for gaussian weights: \" << cudaGetErrorString(cuda_status) << std::endl;\n",
        "        cudaFree(d_input);\n",
        "        cudaFree(d_output);\n",
        "        cudaFree(d_gaussian_weights);\n",
        "        free(h_gaussian_weights);\n",
        "        return 1;\n",
        "    }\n",
        "\n",
        "\n",
        "    dim3 threads_per_block(16, 16);\n",
        "    dim3 num_blocks((width + threads_per_block.x - 1) / threads_per_block.x,\n",
        "                    (height + threads_per_block.y - 1) / threads_per_block.y);\n",
        "\n",
        "    gaussian_blur_kernel<<<num_blocks, threads_per_block>>>(d_input, d_output, width, height, kernel_radius, d_gaussian_weights);\n",
        "\n",
        "    cuda_status = cudaGetLastError();\n",
        "     if (cuda_status != cudaSuccess) {\n",
        "        std::cerr << \"Kernel launch failed: \" << cudaGetErrorString(cuda_status) << std::endl;\n",
        "        cudaFree(d_input);\n",
        "        cudaFree(d_output);\n",
        "        cudaFree(d_gaussian_weights);\n",
        "        free(h_gaussian_weights);\n",
        "        return 1;\n",
        "    }\n",
        "\n",
        "    cuda_status = cudaDeviceSynchronize();\n",
        "     if (cuda_status != cudaSuccess) {\n",
        "        std::cerr << \"cudaDeviceSynchronize failed: \" << cudaGetErrorString(cuda_status) << std::endl;\n",
        "        cudaFree(d_input);\n",
        "        cudaFree(d_output);\n",
        "        cudaFree(d_gaussian_weights);\n",
        "        free(h_gaussian_weights);\n",
        "        return 1;\n",
        "    }\n",
        "\n",
        "\n",
        "    std::vector<unsigned char> output_image(image_size);\n",
        "    cuda_status = cudaMemcpy(output_image.data(), d_output, image_size, cudaMemcpyDeviceToHost);\n",
        "    if (cuda_status != cudaSuccess) {\n",
        "        std::cerr << \"cudaMemcpyDeviceToHost failed: \" << cudaGetErrorString(cuda_status) << std::endl;\n",
        "        cudaFree(d_input);\n",
        "        cudaFree(d_output);\n",
        "        cudaFree(d_gaussian_weights);\n",
        "        free(h_gaussian_weights);\n",
        "        return 1;\n",
        "    }\n",
        "\n",
        "    cudaFree(d_input);\n",
        "    cudaFree(d_output);\n",
        "    cudaFree(d_gaussian_weights);\n",
        "    free(h_gaussian_weights);\n",
        "\n",
        "\n",
        "    error = lodepng::encode(output_filename, output_image, width, height);\n",
        "    if (error) {\n",
        "        std::cerr << \"Encoder error \" << error << \": \" << lodepng_error_text(error) << std::endl;\n",
        "        return 1;\n",
        "    }\n",
        "\n",
        "    std::cout << \"Blurred image saved as \" << output_filename << std::endl;\n",
        "\n",
        "    return 0;\n",
        "}"
      ],
      "execution_count": 47,
      "outputs": [
        {
          "output_type": "stream",
          "name": "stdout",
          "text": [
            "Overwriting Image_gaussian_blur.cu\n"
          ]
        }
      ]
    },
    {
      "cell_type": "code",
      "metadata": {
        "colab": {
          "base_uri": "https://localhost:8080/"
        },
        "id": "aad1380a",
        "outputId": "90ec3331-2dd2-4644-a1a5-ea0a5c896473"
      },
      "source": [
        "!nvcc -arch=sm_75 Image_gaussian_blur.cu lodepng.cpp -o Image_gaussian_blur\n",
        "!ls -l"
      ],
      "execution_count": 48,
      "outputs": [
        {
          "output_type": "stream",
          "name": "stdout",
          "text": [
            "total 18164\n",
            "-rw-r--r-- 1 root root 3255924 Oct 21 19:45 blurred_church.png\n",
            "-rw-r--r-- 1 root root 9123652 Oct 21 18:23 church.png\n",
            "-rw-r--r-- 1 root root 4687937 Oct 21 20:04 horse.png\n",
            "-rwxr-xr-x 1 root root 1172824 Oct 21 20:05 Image_gaussian_blur\n",
            "-rw-r--r-- 1 root root    7612 Oct 21 20:05 Image_gaussian_blur.cu\n",
            "-rw-r--r-- 1 root root  243691 Oct 21 18:23 lodepng.cpp\n",
            "-rw-r--r-- 1 root root   92033 Oct 21 18:23 lodepng.h\n",
            "drwxr-xr-x 1 root root    4096 Oct 17 22:29 sample_data\n"
          ]
        }
      ]
    },
    {
      "cell_type": "code",
      "metadata": {
        "colab": {
          "base_uri": "https://localhost:8080/"
        },
        "id": "ca182894",
        "outputId": "2a0480ed-7f24-4952-e14f-623b02d95e14"
      },
      "source": [
        "!./Image_gaussian_blur /content/horse.png /content/blurred_horse.png 50"
      ],
      "execution_count": 49,
      "outputs": [
        {
          "output_type": "stream",
          "name": "stdout",
          "text": [
            "Image loaded: 2318x3000 pixels.\n",
            "Blurred image saved as /content/blurred_horse.png\n"
          ]
        }
      ]
    }
  ]
}