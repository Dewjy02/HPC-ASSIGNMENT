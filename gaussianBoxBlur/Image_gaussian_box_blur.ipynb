{
  "cells": [
    {
      "cell_type": "code",
      "execution_count": 1,
      "metadata": {
        "colab": {
          "base_uri": "https://localhost:8080/"
        },
        "id": "a24333a2",
        "outputId": "4fbac82c-a18c-4155-e13a-f69b28af7cba"
      },
      "outputs": [
        {
          "name": "stdout",
          "output_type": "stream",
          "text": [
            "nvcc: NVIDIA (R) Cuda compiler driver\n",
            "Copyright (c) 2005-2024 NVIDIA Corporation\n",
            "Built on Thu_Jun__6_02:18:23_PDT_2024\n",
            "Cuda compilation tools, release 12.5, V12.5.82\n",
            "Build cuda_12.5.r12.5/compiler.34385749_0\n"
          ]
        }
      ],
      "source": [
        "!nvcc --version"
      ]
    },
    {
      "cell_type": "code",
      "execution_count": 3,
      "metadata": {
        "colab": {
          "base_uri": "https://localhost:8080/"
        },
        "id": "d2f10081",
        "outputId": "2112f785-228e-4d9c-eced-3b95765a5e05"
      },
      "outputs": [
        {
          "name": "stdout",
          "output_type": "stream",
          "text": [
            "--2025-10-21 21:25:41--  https://raw.githubusercontent.com/Dewjy02/HPC-ASSIGNMENT/b06f2b26f555c88c7d1d50e6e575fc5e1aaeb650/gaussianBoxBlur/lodepng.cpp\n",
            "Resolving raw.githubusercontent.com (raw.githubusercontent.com)... 185.199.108.133, 185.199.109.133, 185.199.110.133, ...\n",
            "Connecting to raw.githubusercontent.com (raw.githubusercontent.com)|185.199.108.133|:443... connected.\n",
            "HTTP request sent, awaiting response... 200 OK\n",
            "Length: 243691 (238K) [text/plain]\n",
            "Saving to: ‘lodepng.cpp’\n",
            "\n",
            "lodepng.cpp         100%[===================>] 237.98K  --.-KB/s    in 0.02s   \n",
            "\n",
            "2025-10-21 21:25:42 (15.2 MB/s) - ‘lodepng.cpp’ saved [243691/243691]\n",
            "\n",
            "--2025-10-21 21:25:42--  https://raw.githubusercontent.com/Dewjy02/HPC-ASSIGNMENT/b06f2b26f555c88c7d1d50e6e575fc5e1aaeb650/gaussianBoxBlur/lodepng.h\n",
            "Resolving raw.githubusercontent.com (raw.githubusercontent.com)... 185.199.108.133, 185.199.109.133, 185.199.110.133, ...\n",
            "Connecting to raw.githubusercontent.com (raw.githubusercontent.com)|185.199.108.133|:443... connected.\n",
            "HTTP request sent, awaiting response... 200 OK\n",
            "Length: 92033 (90K) [text/plain]\n",
            "Saving to: ‘lodepng.h’\n",
            "\n",
            "lodepng.h           100%[===================>]  89.88K  --.-KB/s    in 0.007s  \n",
            "\n",
            "2025-10-21 21:25:42 (12.1 MB/s) - ‘lodepng.h’ saved [92033/92033]\n",
            "\n",
            "--2025-10-21 21:25:42--  https://raw.githubusercontent.com/Dewjy02/HPC-ASSIGNMENT/b06f2b26f555c88c7d1d50e6e575fc5e1aaeb650/gaussianBoxBlur/church.png\n",
            "Resolving raw.githubusercontent.com (raw.githubusercontent.com)... 185.199.108.133, 185.199.109.133, 185.199.110.133, ...\n",
            "Connecting to raw.githubusercontent.com (raw.githubusercontent.com)|185.199.108.133|:443... connected.\n",
            "HTTP request sent, awaiting response... 200 OK\n",
            "Length: 9123652 (8.7M) [image/png]\n",
            "Saving to: ‘church.png’\n",
            "\n",
            "church.png          100%[===================>]   8.70M  --.-KB/s    in 0.07s   \n",
            "\n",
            "2025-10-21 21:25:42 (123 MB/s) - ‘church.png’ saved [9123652/9123652]\n",
            "\n",
            "--2025-10-21 21:25:43--  https://raw.githubusercontent.com/Dewjy02/HPC-ASSIGNMENT/b06f2b26f555c88c7d1d50e6e575fc5e1aaeb650/gaussianBoxBlur/horse.png\n",
            "Resolving raw.githubusercontent.com (raw.githubusercontent.com)... 185.199.111.133, 185.199.108.133, 185.199.110.133, ...\n",
            "Connecting to raw.githubusercontent.com (raw.githubusercontent.com)|185.199.111.133|:443... connected.\n",
            "HTTP request sent, awaiting response... 200 OK\n",
            "Length: 4687937 (4.5M) [image/png]\n",
            "Saving to: ‘horse.png’\n",
            "\n",
            "horse.png           100%[===================>]   4.47M  --.-KB/s    in 0.05s   \n",
            "\n",
            "2025-10-21 21:25:43 (90.7 MB/s) - ‘horse.png’ saved [4687937/4687937]\n",
            "\n"
          ]
        }
      ],
      "source": [
        "!wget https://raw.githubusercontent.com/Dewjy02/HPC-ASSIGNMENT/b06f2b26f555c88c7d1d50e6e575fc5e1aaeb650/gaussianBoxBlur/lodepng.cpp\n",
        "!wget https://raw.githubusercontent.com/Dewjy02/HPC-ASSIGNMENT/b06f2b26f555c88c7d1d50e6e575fc5e1aaeb650/gaussianBoxBlur/lodepng.h\n",
        "!wget https://raw.githubusercontent.com/Dewjy02/HPC-ASSIGNMENT/b06f2b26f555c88c7d1d50e6e575fc5e1aaeb650/gaussianBoxBlur/church.png\n",
        "!wget https://raw.githubusercontent.com/Dewjy02/HPC-ASSIGNMENT/b06f2b26f555c88c7d1d50e6e575fc5e1aaeb650/gaussianBoxBlur/horse.png"
      ]
    },
    {
      "cell_type": "code",
      "execution_count": null,
      "metadata": {
        "colab": {
          "base_uri": "https://localhost:8080/"
        },
        "id": "8c64bce7",
        "outputId": "3f17f7b2-8c7e-4c42-9f9b-806a95514b1d"
      },
      "outputs": [
        {
          "name": "stdout",
          "output_type": "stream",
          "text": [
            "Writing Image_gaussian_blur.cu\n"
          ]
        }
      ],
      "source": [
        "%%writefile Image_gaussian_blur.cu\n",
        "#include <iostream>\n",
        "#include <vector>\n",
        "#include \"lodepng.h\"\n",
        "#include <cuda_runtime.h>\n",
        "#include <cmath>\n",
        "\n",
        "float host_gaussian_weight(int x, int y, float sigma) {\n",
        "    return exp(-(x*x + y*y) / (2 * sigma * sigma));\n",
        "}\n",
        "\n",
        "__global__ void gaussian_blur_kernel(const unsigned char* input, unsigned char* output, int width, int height, int kernel_radius, const float* gaussian_weights) {\n",
        "    int x = blockIdx.x * blockDim.x + threadIdx.x;\n",
        "    int y = blockIdx.y * blockDim.y + threadIdx.y;\n",
        "\n",
        "    if (x < width && y < height) {\n",
        "        float r_sum = 0.0f;\n",
        "        float g_sum = 0.0f;\n",
        "        float b_sum = 0.0f;\n",
        "        float weight_sum = 0.0f;\n",
        "\n",
        "        for (int j = -kernel_radius; j <= kernel_radius; ++j) {\n",
        "            for (int i = -kernel_radius; i <= kernel_radius; ++i) {\n",
        "                int current_x = x + i;\n",
        "                int current_y = y + j;\n",
        "\n",
        "                if (current_x >= 0 && current_x < width && current_y >= 0 && current_y < height) {\n",
        "                    int img_idx = (current_y * width + current_x) * 4;\n",
        "                    int kernel_idx = (j + kernel_radius) * (2 * kernel_radius + 1) + (i + kernel_radius);\n",
        "                    float weight = gaussian_weights[kernel_idx];\n",
        "\n",
        "                    r_sum += input[img_idx] * weight;\n",
        "                    g_sum += input[img_idx + 1] * weight;\n",
        "                    b_sum += input[img_idx + 2] * weight;\n",
        "                    weight_sum += weight;\n",
        "                }\n",
        "            }\n",
        "        }\n",
        "\n",
        "        int out_idx = (y * width + x) * 4;\n",
        "        output[out_idx] = static_cast<unsigned char>(r_sum / weight_sum);\n",
        "        output[out_idx + 1] = static_cast<unsigned char>(g_sum / weight_sum);\n",
        "        output[out_idx + 2] = static_cast<unsigned char>(b_sum / weight_sum);\n",
        "        output[out_idx + 3] = input[out_idx + 3]; // Preserve alpha channel\n",
        "    }\n",
        "}\n",
        "\n",
        "\n",
        "int main(int argc, char **argv) {\n",
        "    if (argc < 4) {\n",
        "        std::cerr << \"Usage: \" << argv[0] << \" </content/church.png> <output_file.png> <kernel_radius>\" << std::endl;\n",
        "        return 1;\n",
        "    }\n",
        "\n",
        "    const char* input_filename = argv[1];\n",
        "    const char* output_filename = argv[2];\n",
        "    int kernel_radius = std::stoi(argv[3]);\n",
        "    float sigma = kernel_radius / 3.0f; // Simple heuristic for sigma\n",
        "\n",
        "    std::vector<unsigned char> image;\n",
        "    unsigned width, height;\n",
        "\n",
        "    unsigned error = lodepng::decode(image, width, height, input_filename);\n",
        "    if (error) {\n",
        "        std::cerr << \"Decoder error \" << error << \": \" << lodepng_error_text(error) << std::endl;\n",
        "        return 1;\n",
        "    }\n",
        "\n",
        "    std::cout << \"Image loaded: \" << width << \"x\" << height << \" pixels.\" << std::endl;\n",
        "\n",
        "    size_t image_size = (size_t)width * height * 4;\n",
        "    unsigned char* d_input, *d_output;\n",
        "    float* h_gaussian_weights;\n",
        "    float* d_gaussian_weights;\n",
        "\n",
        "    cudaError_t cuda_status = cudaMalloc(&d_input, image_size);\n",
        "    if (cuda_status != cudaSuccess) {\n",
        "        std::cerr << \"cudaMalloc failed for d_input: \" << cudaGetErrorString(cuda_status) << std::endl;\n",
        "        return 1;\n",
        "    }\n",
        "\n",
        "    cuda_status = cudaMalloc(&d_output, image_size);\n",
        "     if (cuda_status != cudaSuccess) {\n",
        "        std::cerr << \"cudaMalloc failed for d_output: \" << cudaGetErrorString(cuda_status) << std::endl;\n",
        "        cudaFree(d_input);\n",
        "        return 1;\n",
        "    }\n",
        "\n",
        "    int kernel_size = (2 * kernel_radius + 1);\n",
        "    int gaussian_weights_size = kernel_size * kernel_size * sizeof(float);\n",
        "\n",
        "    h_gaussian_weights = (float*)malloc(gaussian_weights_size);\n",
        "    if (h_gaussian_weights == nullptr) {\n",
        "        std::cerr << \"Failed to allocate host memory for Gaussian weights.\" << std::endl;\n",
        "        cudaFree(d_input);\n",
        "        cudaFree(d_output);\n",
        "        return 1;\n",
        "    }\n",
        "\n",
        "    float sum_weights = 0.0f;\n",
        "    for (int j = -kernel_radius; j <= kernel_radius; ++j) {\n",
        "        for (int i = -kernel_radius; i <= kernel_radius; ++i) {\n",
        "            int kernel_idx = (j + kernel_radius) * kernel_size + (i + kernel_radius);\n",
        "            h_gaussian_weights[kernel_idx] = host_gaussian_weight(i, j, sigma);\n",
        "            sum_weights += h_gaussian_weights[kernel_idx];\n",
        "        }\n",
        "    }\n",
        "\n",
        "    // Normalize weights\n",
        "    for (int j = -kernel_radius; j <= kernel_radius; ++j) {\n",
        "        for (int i = -kernel_radius; i <= kernel_radius; ++i) {\n",
        "             int kernel_idx = (j + kernel_radius) * kernel_size + (i + kernel_radius);\n",
        "             h_gaussian_weights[kernel_idx] /= sum_weights;\n",
        "        }\n",
        "    }\n",
        "\n",
        "\n",
        "    cuda_status = cudaMalloc(&d_gaussian_weights, gaussian_weights_size);\n",
        "     if (cuda_status != cudaSuccess) {\n",
        "        std::cerr << \"cudaMalloc failed for d_gaussian_weights: \" << cudaGetErrorString(cuda_status) << std::endl;\n",
        "        cudaFree(d_input);\n",
        "        cudaFree(d_output);\n",
        "        free(h_gaussian_weights);\n",
        "        return 1;\n",
        "    }\n",
        "\n",
        "\n",
        "    cuda_status = cudaMemcpy(d_input, image.data(), image_size, cudaMemcpyHostToDevice);\n",
        "    if (cuda_status != cudaSuccess) {\n",
        "        std::cerr << \"cudaMemcpyHostToDevice failed for image data: \" << cudaGetErrorString(cuda_status) << std::endl;\n",
        "        cudaFree(d_input);\n",
        "        cudaFree(d_output);\n",
        "        cudaFree(d_gaussian_weights);\n",
        "        free(h_gaussian_weights);\n",
        "        return 1;\n",
        "    }\n",
        "\n",
        "    cuda_status = cudaMemcpy(d_gaussian_weights, h_gaussian_weights, gaussian_weights_size, cudaMemcpyHostToDevice);\n",
        "     if (cuda_status != cudaSuccess) {\n",
        "        std::cerr << \"cudaMemcpyHostToDevice failed for gaussian weights: \" << cudaGetErrorString(cuda_status) << std::endl;\n",
        "        cudaFree(d_input);\n",
        "        cudaFree(d_output);\n",
        "        cudaFree(d_gaussian_weights);\n",
        "        free(h_gaussian_weights);\n",
        "        return 1;\n",
        "    }\n",
        "\n",
        "\n",
        "    dim3 threads_per_block(16, 16);\n",
        "    dim3 num_blocks((width + threads_per_block.x - 1) / threads_per_block.x,\n",
        "                    (height + threads_per_block.y - 1) / threads_per_block.y);\n",
        "\n",
        "    gaussian_blur_kernel<<<num_blocks, threads_per_block>>>(d_input, d_output, width, height, kernel_radius, d_gaussian_weights);\n",
        "\n",
        "    cuda_status = cudaGetLastError();\n",
        "     if (cuda_status != cudaSuccess) {\n",
        "        std::cerr << \"Kernel launch failed: \" << cudaGetErrorString(cuda_status) << std::endl;\n",
        "        cudaFree(d_input);\n",
        "        cudaFree(d_output);\n",
        "        cudaFree(d_gaussian_weights);\n",
        "        free(h_gaussian_weights);\n",
        "        return 1;\n",
        "    }\n",
        "\n",
        "    cuda_status = cudaDeviceSynchronize();\n",
        "     if (cuda_status != cudaSuccess) {\n",
        "        std::cerr << \"cudaDeviceSynchronize failed: \" << cudaGetErrorString(cuda_status) << std::endl;\n",
        "        cudaFree(d_input);\n",
        "        cudaFree(d_output);\n",
        "        cudaFree(d_gaussian_weights);\n",
        "        free(h_gaussian_weights);\n",
        "        return 1;\n",
        "    }\n",
        "\n",
        "\n",
        "    std::vector<unsigned char> output_image(image_size);\n",
        "    cuda_status = cudaMemcpy(output_image.data(), d_output, image_size, cudaMemcpyDeviceToHost);\n",
        "    if (cuda_status != cudaSuccess) {\n",
        "        std::cerr << \"cudaMemcpyDeviceToHost failed: \" << cudaGetErrorString(cuda_status) << std::endl;\n",
        "        cudaFree(d_input);\n",
        "        cudaFree(d_output);\n",
        "        cudaFree(d_gaussian_weights);\n",
        "        free(h_gaussian_weights);\n",
        "        return 1;\n",
        "    }\n",
        "\n",
        "    cudaFree(d_input);\n",
        "    cudaFree(d_output);\n",
        "    cudaFree(d_gaussian_weights);\n",
        "    free(h_gaussian_weights);\n",
        "\n",
        "\n",
        "    error = lodepng::encode(output_filename, output_image, width, height);\n",
        "    if (error) {\n",
        "        std::cerr << \"Encoder error \" << error << \": \" << lodepng_error_text(error) << std::endl;\n",
        "        return 1;\n",
        "    }\n",
        "\n",
        "    std::cout << \"Blurred image saved as \" << output_filename << std::endl;\n",
        "\n",
        "    return 0;\n",
        "}"
      ]
    },
    {
      "cell_type": "code",
      "execution_count": 5,
      "metadata": {
        "colab": {
          "base_uri": "https://localhost:8080/"
        },
        "id": "aad1380a",
        "outputId": "0525da72-ae2a-4322-d567-2131785f5bb1"
      },
      "outputs": [
        {
          "name": "stdout",
          "output_type": "stream",
          "text": [
            "total 14984\n",
            "-rw-r--r-- 1 root root 9123652 Oct 21 21:25 church.png\n",
            "-rw-r--r-- 1 root root 4687937 Oct 21 21:25 horse.png\n",
            "-rwxr-xr-x 1 root root 1172824 Oct 21 21:26 Image_gaussian_blur\n",
            "-rw-r--r-- 1 root root    7612 Oct 21 21:25 Image_gaussian_blur.cu\n",
            "-rw-r--r-- 1 root root  243691 Oct 21 21:25 lodepng.cpp\n",
            "-rw-r--r-- 1 root root   92033 Oct 21 21:25 lodepng.h\n",
            "drwxr-xr-x 1 root root    4096 Oct 20 20:02 sample_data\n"
          ]
        }
      ],
      "source": [
        "!nvcc -arch=sm_75 Image_gaussian_blur.cu lodepng.cpp -o Image_gaussian_blur\n",
        "!ls -l"
      ]
    },
    {
      "cell_type": "code",
      "execution_count": 6,
      "metadata": {
        "colab": {
          "base_uri": "https://localhost:8080/"
        },
        "id": "ca182894",
        "outputId": "f2d5b9ed-712d-4d67-b379-7030dafa52b7"
      },
      "outputs": [
        {
          "name": "stdout",
          "output_type": "stream",
          "text": [
            "Image loaded: 2318x3000 pixels.\n",
            "Blurred image saved as /content/blurred_horse.png\n"
          ]
        }
      ],
      "source": [
        "!./Image_gaussian_blur /content/horse.png /content/blurred_horse.png 50"
      ]
    }
  ],
  "metadata": {
    "accelerator": "GPU",
    "colab": {
      "gpuType": "T4",
      "provenance": []
    },
    "kernelspec": {
      "display_name": "Python 3",
      "name": "python3"
    },
    "language_info": {
      "name": "python"
    }
  },
  "nbformat": 4,
  "nbformat_minor": 0
}
